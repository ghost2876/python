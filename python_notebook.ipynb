{
 "cells": [
  {
   "cell_type": "code",
   "execution_count": null,
   "metadata": {
    "collapsed": true
   },
   "outputs": [],
   "source": [
    "python中list/tuple/dict/set的区别\n",
    "list:  有序集合，key可以重复，随时增删改[]\n",
    "tuple: 有序集合，key可以重复，但一旦初始化就无法修改()\n",
    "dict:  键值对（key-value）方式存储，查找速度快{}\n",
    "set:   无序集合，key不能重复set()\n",
    "    \n",
    "set一般是集合操作，比如并集、交集\n",
    "dict查找速度比set快，但是消耗内存大，用空间换时间"
   ]
  },
  {
   "cell_type": "code",
   "execution_count": 44,
   "metadata": {},
   "outputs": [
    {
     "name": "stdout",
     "output_type": "stream",
     "text": [
      "['abcd', 786, 0.23, 'runoob', True]\n",
      "abcd\n",
      "[786, 0.23, 'runoob']\n",
      "True\n",
      "['abcd', 786, 0.23, 'runoob', True, 'abcd', 786, 0.23, 'runoob', True]\n",
      "['abcd', 786, 0.23, 'runoob', True, 123, 'run']\n",
      "[23, 786, 12, 34, True]\n",
      "----------------\n",
      "----------------\n",
      "{'name': 'runoob', '1': 1, 2: 2}\n",
      "2\n",
      "dict_keys(['name', '1', 2])\n",
      "dict_values(['runoob', 1, 2])\n",
      "----------------\n",
      "{'Rose', 'Jim', 'Tom', 'Jack', 'Mary'}\n",
      "Rose 在集合中\n"
     ]
    },
    {
     "ename": "TypeError",
     "evalue": "'set' object is not callable",
     "output_type": "error",
     "traceback": [
      "\u001b[1;31m---------------------------------------------------------------------------\u001b[0m",
      "\u001b[1;31mTypeError\u001b[0m                                 Traceback (most recent call last)",
      "\u001b[1;32m<ipython-input-44-de10435d7f7a>\u001b[0m in \u001b[0;36m<module>\u001b[1;34m()\u001b[0m\n\u001b[0;32m     42\u001b[0m \u001b[1;33m\u001b[0m\u001b[0m\n\u001b[0;32m     43\u001b[0m \u001b[1;31m# set可以进行集合运算\u001b[0m\u001b[1;33m\u001b[0m\u001b[1;33m\u001b[0m\u001b[0m\n\u001b[1;32m---> 44\u001b[1;33m \u001b[0ma\u001b[0m \u001b[1;33m=\u001b[0m \u001b[0mset\u001b[0m\u001b[1;33m(\u001b[0m\u001b[1;34m'abracadabra'\u001b[0m\u001b[1;33m)\u001b[0m\u001b[1;33m\u001b[0m\u001b[0m\n\u001b[0m\u001b[0;32m     45\u001b[0m \u001b[0mb\u001b[0m \u001b[1;33m=\u001b[0m \u001b[0mset\u001b[0m\u001b[1;33m(\u001b[0m\u001b[1;34m'alacazam'\u001b[0m\u001b[1;33m)\u001b[0m\u001b[1;33m\u001b[0m\u001b[0m\n\u001b[0;32m     46\u001b[0m \u001b[1;33m\u001b[0m\u001b[0m\n",
      "\u001b[1;31mTypeError\u001b[0m: 'set' object is not callable"
     ]
    }
   ],
   "source": [
    "# list\n",
    "list = ['abcd', 786, .23, \"runoob\", True]\n",
    "tinylist = [123, 'run']\n",
    "print (list)\n",
    "print (list[0])\n",
    "print (list[1:-1])\n",
    "print (list[-1])\n",
    "print (list * 2)\n",
    "print (list + tinylist) # 连接两个list\n",
    "# 修改list中的元素\n",
    "list[0] = 23\n",
    "list[2:4] = [12, 34]\n",
    "print (list)\n",
    "print ('----------------')\n",
    "\n",
    "# tuple\n",
    "tuple = ['abcd', 786, .23, \"runoob\", True]\n",
    "# 和上面list的操作都一样，唯独就是不能进行修改\n",
    "tuple[0] = 'ab' #!!!报错\n",
    "print ('----------------')\n",
    "\n",
    "# dict\n",
    "dict = {}\n",
    "dict['one'] = 1\n",
    "dict[2] = \"2\"\n",
    "dict = {'name':'runoob', '1':1, 2:2}\n",
    "print (dict)\n",
    "print (dict[2])\n",
    "print (dict.keys())\n",
    "print (dict.values())\n",
    "print ('----------------')\n",
    "\n",
    "# set\n",
    "student = {'Tom', 'Jim', 'Mary', 'Tom', 'Jack', 'Rose'}\n",
    "print(student)   # 输出集合，重复的元素被自动去掉\n",
    "\n",
    "# 成员测试\n",
    "if('Rose' in student):\n",
    "    print('Rose 在集合中')\n",
    "else :\n",
    "    print('Rose 不在集合中')\n",
    "\n",
    "# set可以进行集合运算\n",
    "a = set('abracadabra')\n",
    "b = set('alacazam')\n",
    "\n",
    "print(a)\n",
    "print(a - b)     # a和b的差集\n",
    "print(a | b)     # a和b的并集\n",
    "print(a & b)     # a和b的交集\n",
    "print(a ^ b)     # a和b中不同时存在的元素"
   ]
  },
  {
   "cell_type": "code",
   "execution_count": 13,
   "metadata": {},
   "outputs": [
    {
     "name": "stdout",
     "output_type": "stream",
     "text": [
      "100\n",
      "<class 'int'>\n",
      "1000.0\n",
      "<class 'float'>\n",
      "runoob\n",
      "<class 'str'>\n",
      "True\n",
      "<class 'bool'>\n"
     ]
    }
   ],
   "source": [
    "# int, float, str, bool四种变量类型\n",
    "counter = 100\n",
    "miles = 1000.0\n",
    "name = \"runoob\"\n",
    "flag = True\n",
    "\n",
    "print (counter)\n",
    "print (type(counter))\n",
    "print (miles)\n",
    "print (type(miles))\n",
    "print (name)\n",
    "print (type(name))\n",
    "print (flag)\n",
    "print (type(flag))"
   ]
  },
  {
   "cell_type": "code",
   "execution_count": 11,
   "metadata": {
    "collapsed": true
   },
   "outputs": [],
   "source": [
    "# 可以连续赋值\n",
    "a, b, c = 1, 2., \"runoob\""
   ]
  },
  {
   "cell_type": "code",
   "execution_count": null,
   "metadata": {
    "collapsed": true
   },
   "outputs": [],
   "source": [
    "# 可以使用type或isinstance()判断类型, 区别:\n",
    "type()不会认为子类是一种父类类型。\n",
    "isinstance()会认为子类是一种父类类型。"
   ]
  },
  {
   "cell_type": "code",
   "execution_count": 14,
   "metadata": {},
   "outputs": [
    {
     "name": "stdout",
     "output_type": "stream",
     "text": [
      "3\n"
     ]
    },
    {
     "ename": "NameError",
     "evalue": "name 'var' is not defined",
     "output_type": "error",
     "traceback": [
      "\u001b[1;31m---------------------------------------------------------------------------\u001b[0m",
      "\u001b[1;31mNameError\u001b[0m                                 Traceback (most recent call last)",
      "\u001b[1;32m<ipython-input-14-dab838f47122>\u001b[0m in \u001b[0;36m<module>\u001b[1;34m()\u001b[0m\n\u001b[0;32m      3\u001b[0m \u001b[0mprint\u001b[0m \u001b[1;33m(\u001b[0m\u001b[0mvar\u001b[0m\u001b[1;33m)\u001b[0m\u001b[1;33m\u001b[0m\u001b[0m\n\u001b[0;32m      4\u001b[0m \u001b[1;32mdel\u001b[0m \u001b[0mvar\u001b[0m\u001b[1;33m\u001b[0m\u001b[0m\n\u001b[1;32m----> 5\u001b[1;33m \u001b[0mprint\u001b[0m \u001b[1;33m(\u001b[0m\u001b[0mvar\u001b[0m\u001b[1;33m)\u001b[0m\u001b[1;33m\u001b[0m\u001b[0m\n\u001b[0m",
      "\u001b[1;31mNameError\u001b[0m: name 'var' is not defined"
     ]
    }
   ],
   "source": [
    "# 可以使用del删除变量引用\n",
    "var = 3\n",
    "print (var)\n",
    "del var\n",
    "print (var)"
   ]
  },
  {
   "cell_type": "code",
   "execution_count": 20,
   "metadata": {},
   "outputs": [
    {
     "name": "stdout",
     "output_type": "stream",
     "text": [
      "Runoob\n",
      "b\n",
      "Runoo\n",
      "Runoob\n",
      "noo\n",
      "RunoobRunoob\n",
      "RunoobTEST\n"
     ]
    }
   ],
   "source": [
    "# 对str使用下标截取  \\n转义字符\n",
    "str = 'Runoob'\n",
    "\n",
    "print (str)\n",
    "print (str[-1])\n",
    "print (str[0:-1])\n",
    "print (str[0:])\n",
    "print (str[2:5])\n",
    "print (str * 2)\n",
    "print (str + \"TEST\")"
   ]
  },
  {
   "cell_type": "code",
   "execution_count": null,
   "metadata": {
    "collapsed": true
   },
   "outputs": [],
   "source": []
  },
  {
   "cell_type": "markdown",
   "metadata": {},
   "source": [
    "# Runoob Python练习100例\n",
    "http://www.runoob.com/python/python-100-examples.html"
   ]
  },
  {
   "cell_type": "code",
   "execution_count": 10,
   "metadata": {},
   "outputs": [
    {
     "name": "stdout",
     "output_type": "stream",
     "text": [
      "净利润:120000\n",
      "11500.0\n"
     ]
    }
   ],
   "source": [
    "# Python 练习实例2\n",
    "i = int(input('净利润:'))\n",
    "arr = [1000000, 600000, 400000, 200000, 100000, 0]\n",
    "rat = [0.01, 0.015, 0.03, 0.05, 0.075, 0.1]\n",
    "r = 0\n",
    "\n",
    "for index in range(0, 6):\n",
    "    if i > arr[index]:\n",
    "        r += (i - arr[index])*rat[index]\n",
    "        i = arr[index]\n",
    "\n",
    "print (r)"
   ]
  },
  {
   "cell_type": "code",
   "execution_count": 11,
   "metadata": {},
   "outputs": [
    {
     "name": "stdout",
     "output_type": "stream",
     "text": [
      "请输入整数:2\n",
      "请输入整数:9999\n",
      "请输入整数:0\n",
      "[0, 2, 9999]\n"
     ]
    }
   ],
   "source": [
    "# Python 练习实例5, sort\n",
    "l = []\n",
    "for i in range(0, 3):\n",
    "    l.append(int(input(\"请输入整数:\")))\n",
    "l.sort()\n",
    "\n",
    "print (l)"
   ]
  },
  {
   "cell_type": "code",
   "execution_count": 12,
   "metadata": {},
   "outputs": [
    {
     "name": "stdout",
     "output_type": "stream",
     "text": [
      "[0, 1, 1, 2, 3, 5, 8, 13, 21, 34]\n"
     ]
    }
   ],
   "source": [
    "# Python练习实例6, fib\n",
    "l = []\n",
    "\n",
    "def fib(n):\n",
    "    l.append(0)\n",
    "    l.append(1)\n",
    "    for i in range(2, n):\n",
    "        l.append(l[i-2]+l[i-1])\n",
    "    return l\n",
    "\n",
    "print (fib(10))"
   ]
  },
  {
   "cell_type": "code",
   "execution_count": 14,
   "metadata": {},
   "outputs": [
    {
     "name": "stdout",
     "output_type": "stream",
     "text": [
      "[1, 2, 3, 0, 9]\n"
     ]
    }
   ],
   "source": [
    "# Python 练习实例7, list copy\n",
    "l = [1, 2, 3, 0, 9]\n",
    "\n",
    "b = l[:]\n",
    "print (b)"
   ]
  },
  {
   "cell_type": "code",
   "execution_count": 17,
   "metadata": {},
   "outputs": [
    {
     "name": "stdout",
     "output_type": "stream",
     "text": [
      "a\n",
      "1\n",
      "3\n",
      "b\n",
      "True\n",
      "hello\n"
     ]
    }
   ],
   "source": [
    "# Python 练习实例9, dict的使用\n",
    "dic = {'a':1, 3:'b', True:\"hello\"}\n",
    "\n",
    "for index in dic.keys():\n",
    "    print (index)\n",
    "    print (dic[index])"
   ]
  },
  {
   "cell_type": "code",
   "execution_count": 21,
   "metadata": {},
   "outputs": [
    {
     "name": "stdout",
     "output_type": "stream",
     "text": [
      "2018-06-24 13:21:36\n",
      "2018-06-24 13:21:37\n"
     ]
    }
   ],
   "source": [
    "# Python 练习实例10, time\n",
    "import time\n",
    "\n",
    "print (time.strftime('%Y-%m-%d %H:%M:%S', time.localtime(time.time())))\n",
    "time.sleep(1)\n",
    "print (time.strftime('%Y-%m-%d %H:%M:%S', time.localtime(time.time())))"
   ]
  },
  {
   "cell_type": "markdown",
   "metadata": {},
   "source": [
    "# Python 函数"
   ]
  },
  {
   "cell_type": "markdown",
   "metadata": {},
   "source": [
    "# Python 正则表达式"
   ]
  },
  {
   "cell_type": "code",
   "execution_count": 10,
   "metadata": {},
   "outputs": [
    {
     "name": "stdout",
     "output_type": "stream",
     "text": [
      "(0, 3)\n",
      "0\n",
      "3\n",
      "www\n",
      "www\n",
      "()\n"
     ]
    }
   ],
   "source": [
    "import re\n",
    "print (re.match('www', 'www.runoob.com').span())\n",
    "print (re.match('www', 'www.runoob.com').start())\n",
    "print (re.match('www', 'www.runoob.com').end())\n",
    "print (re.match('www', 'www.runoob.com').group())\n",
    "print (re.match('www', 'www.runoob.com').group(0))\n",
    "print (re.match('www', 'www.runoob.com').groups())"
   ]
  },
  {
   "cell_type": "code",
   "execution_count": null,
   "metadata": {
    "collapsed": true
   },
   "outputs": [],
   "source": [
    ".* 和 .*?的区别\n",
    "\\s匹配任意的空白符（包括空格，制表符(Tab)，换行符，中文全角空格）\n",
    "\\S则是任意不是空白符的字符\n",
    "?涉及到贪婪模式\n",
    "当正则表达式中包含能接受重复的限定符时，通常的行为是（在使整个表达式能得到匹配的前提下）匹配尽可能多的字符。以这个表达式为例：a.*b，它将会匹配最长的以a开始，以b结束的字符串。如果用它来搜索aabab的话，它会匹配整个字符串aabab。这被称为贪婪匹配。\n",
    "有时，我们更需要懒惰匹配，也就是匹配尽可能少的字符。前面给出的限定符都可以被转化为懒惰匹配模式，只要在它后面加上一个问号?。这样.*?就意味着匹配任意数量的重复，但是在能使整个匹配成功的前提下使用最少的重复。现在看看懒惰版的例子吧：\n",
    "a.*?b匹配最短的，以a开始，以b结束的字符串。如果把它应用于aabab的话，它会匹配aab（第一到第三个字符）和ab（第四到第五个字符）"
   ]
  },
  {
   "cell_type": "code",
   "execution_count": 20,
   "metadata": {},
   "outputs": [
    {
     "name": "stdout",
     "output_type": "stream",
     "text": [
      "matchObj.group():  Cats are smarter than dogs\n",
      "matchObj.group(0):  Cats are smarter than dogs\n",
      "matchObj.group(1):  Cats\n",
      "matchObj.group(2):  smarter\n",
      "matchObj.groups:  ('Cats', 'smarter')\n"
     ]
    }
   ],
   "source": [
    "import re\n",
    "line = 'Cats are smarter than dogs'\n",
    "\n",
    "# re.M 多行匹配，影响 ^ 和 $, re.I 使匹配对大小写不敏感\n",
    "# 点代表的是任意字符。* 代表的是取 0 至 无限长度,问号代表的是非贪婪模式\n",
    "matchObj = re.match('(.*) are (.*?) (.*)', line, re.M|re.I)\n",
    "#matchObj = re.match('(.*) are (.*?) .*', line, re.M|re.I)\n",
    "\n",
    "if matchObj:\n",
    "    print ('matchObj.group(): ', matchObj.group())\n",
    "    print ('matchObj.group(0): ', matchObj.group(0))\n",
    "    print ('matchObj.group(1): ', matchObj.group(1))\n",
    "    print ('matchObj.group(2): ', matchObj.group(2))\n",
    "    print ('matchObj.groups: ', matchObj.groups())\n",
    "else:\n",
    "    print ('No match!!')"
   ]
  },
  {
   "cell_type": "code",
   "execution_count": 22,
   "metadata": {},
   "outputs": [
    {
     "name": "stdout",
     "output_type": "stream",
     "text": [
      "No match!\n",
      "match --> matchObj.group():  dogs\n"
     ]
    }
   ],
   "source": [
    "import re\n",
    "line = \"Cats are smarter than dogs\"\n",
    "\n",
    "matchObj = re.match('dogs', line, re.M|re.I)\n",
    "if matchObj:\n",
    "    print (\"match --> matchObj.group(): \", matchObj.group())\n",
    "else:\n",
    "    print (\"No match!\")\n",
    "\n",
    "matchObj = re.search('dogs', line, re.M|re.I)\n",
    "if matchObj:\n",
    "    print (\"match --> matchObj.group(): \", matchObj.group())\n",
    "else:\n",
    "    print ('No match!')"
   ]
  },
  {
   "cell_type": "code",
   "execution_count": null,
   "metadata": {
    "collapsed": true
   },
   "outputs": [],
   "source": [
    "正则表达式^和$有什么用？\n",
    "[a-z] 可以用来匹配任意位置上的小写字母: \"...a...\"\n",
    "^[a-z] 只能匹配以小写字母为行首的行: \"a...\"\n",
    "[a-z]$ 只能匹配以小写字母为行尾的行: \"...a\"\n",
    "^[a-z]$ 应该只能匹配只有一个小写字母的行: \"a\"\n",
    "\n",
    "3、字符$\n",
    "意义：与^类似,匹配最末的字符.\n",
    "例如：/t$/不匹配\"eater\"中的’t’,但匹配\"eat\"中的’t’.\n",
    "4、字符*\n",
    "意义：匹配*前面的字符0次或n次.\n",
    "例如:/bo*/匹配\"A ghost booooed\"中的’boooo’或\"A bird warbled\"中的’b’,但不匹配\"Agoat grunted\"中的任何字符\n",
    "参见链接《正则表达式 \"^+$\"等符号意义》，Link: https://blog.csdn.net/github_36362235/article/details/53302787"
   ]
  },
  {
   "cell_type": "code",
   "execution_count": 30,
   "metadata": {},
   "outputs": [
    {
     "name": "stdout",
     "output_type": "stream",
     "text": [
      "电话号码替换后变为:  2004-959-559 hello\n"
     ]
    }
   ],
   "source": [
    "import re\n",
    "\n",
    "phone = '2004-959-559 # 这是一个电话号码'\n",
    "\n",
    "num = re.sub('#.*$', \"hello\", phone)\n",
    "print ('电话号码替换后变为: ', num)"
   ]
  },
  {
   "cell_type": "code",
   "execution_count": null,
   "metadata": {
    "collapsed": true
   },
   "outputs": [],
   "source": []
  },
  {
   "cell_type": "code",
   "execution_count": null,
   "metadata": {
    "collapsed": true
   },
   "outputs": [],
   "source": []
  },
  {
   "cell_type": "markdown",
   "metadata": {},
   "source": [
    "# Python 多线程"
   ]
  },
  {
   "cell_type": "code",
   "execution_count": 63,
   "metadata": {},
   "outputs": [
    {
     "name": "stdout",
     "output_type": "stream",
     "text": [
      "thread-1: Tue Jun 26 22:41:08 2018\n",
      "thread-2: Tue Jun 26 22:41:10 2018\n",
      "thread-1: Tue Jun 26 22:41:10 2018\n",
      "thread-1: Tue Jun 26 22:41:12 2018\n",
      "thread-2: Tue Jun 26 22:41:14 2018\n",
      "thread-1: Tue Jun 26 22:41:14 2018\n",
      "thread-1: Tue Jun 26 22:41:16 2018\n",
      "thread-2: Tue Jun 26 22:41:18 2018\n",
      "thread-2: Tue Jun 26 22:41:22 2018\n",
      "thread-2: Tue Jun 26 22:41:26 2018\n"
     ]
    },
    {
     "ename": "KeyboardInterrupt",
     "evalue": "",
     "output_type": "error",
     "traceback": [
      "\u001b[1;31m---------------------------------------------------------------------------\u001b[0m",
      "\u001b[1;31mKeyboardInterrupt\u001b[0m                         Traceback (most recent call last)",
      "\u001b[1;32m<ipython-input-63-65a032ca2527>\u001b[0m in \u001b[0;36m<module>\u001b[1;34m()\u001b[0m\n\u001b[0;32m     18\u001b[0m \u001b[1;33m\u001b[0m\u001b[0m\n\u001b[0;32m     19\u001b[0m \u001b[1;32mwhile\u001b[0m \u001b[1;36m1\u001b[0m\u001b[1;33m:\u001b[0m\u001b[1;33m\u001b[0m\u001b[0m\n\u001b[1;32m---> 20\u001b[1;33m     \u001b[1;32mpass\u001b[0m\u001b[1;33m\u001b[0m\u001b[0m\n\u001b[0m",
      "\u001b[1;31mKeyboardInterrupt\u001b[0m: "
     ]
    }
   ],
   "source": [
    "# Python Multi-threading\n",
    "import _thread\n",
    "import time\n",
    "\n",
    "# 为线程定义一个函数\n",
    "def print_time(threadName, delay):\n",
    "    count = 0\n",
    "    while count<5:\n",
    "        time.sleep(delay)\n",
    "        count+=1\n",
    "        print (\"%s: %s\" % (threadName, time.ctime(time.time())))\n",
    "        \n",
    "try:\n",
    "    _thread.start_new_thread(print_time, (\"thread-1\", 2))\n",
    "    _thread.start_new_thread(print_time, (\"thread-2\", 4))\n",
    "except:\n",
    "    print (\"Error: 无法启动线程\")\n",
    "    \n",
    "while 1:\n",
    "    pass"
   ]
  },
  {
   "cell_type": "code",
   "execution_count": 72,
   "metadata": {},
   "outputs": [
    {
     "name": "stdout",
     "output_type": "stream",
     "text": [
      "开始线程: Thread-1\n",
      "开始线程: Thread-2\n",
      "Thread-1: Tue Jun 26 23:14:00 2018\n",
      "Thread-1: Tue Jun 26 23:14:01 2018Thread-2: Tue Jun 26 23:14:01 2018\n",
      "\n",
      "Thread-1: Tue Jun 26 23:14:02 2018\n",
      "Thread-2: Tue Jun 26 23:14:03 2018\n",
      "Thread-1: Tue Jun 26 23:14:03 2018\n",
      "Thread-1: Tue Jun 26 23:14:04 2018\n",
      "退出线程: Thread-1\n",
      "Thread-2: Tue Jun 26 23:14:05 2018\n",
      "Thread-2: Tue Jun 26 23:14:07 2018\n",
      "Thread-2: Tue Jun 26 23:14:09 2018\n",
      "退出主线程退出线程: Thread-2\n",
      "\n"
     ]
    }
   ],
   "source": [
    "import threading\n",
    "import time\n",
    "\n",
    "exitFlag = 0\n",
    "\n",
    "class myThread (threading.Thread):\n",
    "    def __init__(self, threadID, name, counter):\n",
    "        threading.Thread.__init__(self)\n",
    "        self.threadID = threadID\n",
    "        self.name = name\n",
    "        self.counter = counter\n",
    "        \n",
    "    def run(self):\n",
    "        print ('开始线程: '+ self.name)\n",
    "        print_time(self.name, self.counter, 5)\n",
    "        print ('退出线程: '+ self.name)\n",
    "\n",
    "def print_time(threadName, delay, counter):\n",
    "    while counter:\n",
    "        if exitFlag:\n",
    "            threadName.exit()\n",
    "        time.sleep(delay)\n",
    "        print ('%s: %s' % (threadName, time.ctime(time.time())))\n",
    "        counter -= 1\n",
    "        \n",
    "thread1 = myThread(1, 'Thread-1', 1)\n",
    "thread2 = myThread(2, 'Thread-2', 2)\n",
    "\n",
    "thread1.start()\n",
    "thread2.start()\n",
    "thread1.join()\n",
    "thread2.join()\n",
    "print ('退出主线程')"
   ]
  },
  {
   "cell_type": "code",
   "execution_count": 77,
   "metadata": {},
   "outputs": [
    {
     "name": "stdout",
     "output_type": "stream",
     "text": [
      "开启线程: Thread-2开启线程: Thread-1\n",
      "\n",
      "Thread-1: Tue Jun 26 23:18:27 2018\n",
      "Thread-1: Tue Jun 26 23:18:28 2018\n",
      "Thread-1: Tue Jun 26 23:18:29 2018\n",
      "Thread-2: Tue Jun 26 23:18:31 2018\n",
      "Thread-2: Tue Jun 26 23:18:33 2018\n",
      "Thread-2: Tue Jun 26 23:18:35 2018退出主线程\n",
      "\n"
     ]
    }
   ],
   "source": [
    "import threading\n",
    "import time\n",
    "\n",
    "class myThread (threading.Thread):\n",
    "    def __init__(self, threadID, name, counter):\n",
    "        threading.Thread.__init__(self)\n",
    "        self.threadID = threadID\n",
    "        self.name = name\n",
    "        self.counter = counter\n",
    "        \n",
    "    def run(self):\n",
    "        print ('开启线程: ' + self.name)\n",
    "        \n",
    "        threadLock.acquire()\n",
    "        print_time(self.name, self.counter, 3)\n",
    "        threadLock.release()\n",
    "        \n",
    "def print_time(threadName, delay, counter):\n",
    "    while counter:\n",
    "        time.sleep(delay)\n",
    "        print ('%s: %s' % (threadName, time.ctime(time.time())))\n",
    "        counter -= 1\n",
    "        \n",
    "# threadLock = threading.Lock()\n",
    "threadLock = threading.RLock()\n",
    "threads = []\n",
    "\n",
    "thread1 = myThread(1, \"Thread-1\", 1)\n",
    "thread2 = myThread(2, \"Thread-2\", 2)\n",
    "\n",
    "thread1.start()\n",
    "thread2.start()\n",
    "\n",
    "threads.append(thread1)\n",
    "threads.append(thread2)\n",
    "\n",
    "for t in threads:\n",
    "    t.join()\n",
    "\n",
    "print ('退出主线程')"
   ]
  },
  {
   "cell_type": "markdown",
   "metadata": {},
   "source": [
    "# Python 锁 中Lock和RLock的区别，参见\n",
    "Thread Synchronization Mechanisms in Python - Fredrik Lundh | July 2007, Link: http://effbot.org/zone/thread-synchronization.htm\n",
    "这里直接摘录"
   ]
  },
  {
   "cell_type": "code",
   "execution_count": null,
   "metadata": {
    "collapsed": true
   },
   "outputs": [],
   "source": [
    "在threading模块中，定义两种类型的锁：threading.Lock和threading.RLock。它们之间有一点细微的区别，通过比较下面两段代码来说明：\n",
    "\n",
    "import threading  \n",
    "lock = threading.Lock() #Lock对象  \n",
    "lock.acquire()  \n",
    "lock.acquire()  #产生了死锁。  \n",
    "lock.release()  \n",
    "lock.release()  \n",
    "import threading  \n",
    "rLock = threading.RLock()  #RLock对象  \n",
    "rLock.acquire()  \n",
    "rLock.acquire() #在同一线程内，程序不会堵塞。  \n",
    "rLock.release()  \n",
    "rLock.release()  \n",
    "\n",
    "　　这两种琐的主要区别是：RLock允许在同一线程中被多次acquire。而Lock却不允许这种情况。注意：如果使用RLock，那么acquire和release必须成对出现，即调用了n次acquire，必须调用n次的release才能真正释放所占用的锁。threading.Condition\n",
    "　　可以把Condiftion理解为一把高级的锁，它提供了比Lock, RLock更高级的功能，允许我们能够控制复杂的线程同步问题。threadiong.Condition在内部维护一个锁对象（默认是RLock），可以在创建Condigtion对象的时候把锁对象作为参数传入。Condition也提供了acquire, release方法，其含义与锁的acquire, release方法一致，其实它只是简单的调用内部锁对象的对应的方法而已。Condition还提供了如下方法(特别要注意：这些方法只有在占用锁(acquire)之后才能调用，否则将会报RuntimeError异常。)：\n",
    "\n",
    "Condition.wait([timeout]):  \n",
    "　　wait方法释放内部所占用的锁，同时线程被挂起，直至接收到通知被唤醒或超时（如果提供了timeout参数的话）。当线程被唤醒并重新占有锁的时候，程序才会继续执行下去。\n",
    "\n",
    "Condition.notify():\n",
    "　　唤醒一个挂起的线程（如果存在挂起的线程）。注意：notify()方法不会释放所占用的锁。\n",
    "\n",
    "Condition.notify_all()\n",
    "Condition.notifyAll()\n",
    "　　唤醒所有挂起的线程（如果存在挂起的线程）。注意：这些方法不会释放所占用的锁。"
   ]
  },
  {
   "cell_type": "code",
   "execution_count": null,
   "metadata": {
    "collapsed": true
   },
   "outputs": [],
   "source": [
    "资源总是有限的，程序运行如果对同一个对象进行操作，则有可能造成资源的争用，甚至导致死锁 \n",
    "也可能导致读写混乱\n",
    "\n",
    "锁提供如下方法： \n",
    "1.Lock.acquire([blocking]) \n",
    "2.Lock.release() \n",
    "3.threading.Lock() 加载线程的锁对象，是一个基本的锁对象，一次只能一个锁定，其余锁请求，需等待锁释放后才能获取\n",
    "4.threading.RLock() 多重锁，在同一线程中可用被多次acquire。如果使用RLock，那么acquire和release必须成对出现， \n",
    "调用了n次acquire锁请求，则必须调用n次的release才能在线程中释放锁对象"
   ]
  },
  {
   "cell_type": "code",
   "execution_count": null,
   "metadata": {
    "collapsed": true
   },
   "outputs": [],
   "source": [
    "The below article originally comes from http://effbot.org/zone/thread-synchronization.htm\n",
    "\n",
    "Thread Synchronization Mechanisms in Python\n",
    "Fredrik Lundh | July 2007\n",
    "\n",
    "This article discusses how to synchronize access to shared resources, and otherwise coordinate execution of threads.\n",
    "\n",
    "Synchronizing Access to Shared Resources #\n",
    "One important issue when using threads is to avoid conflicts when more than one thread needs to access a single variable or other resource. If you’re not careful, overlapping accesses or modifications from multiple threads may cause all kinds of problems, and what’s worse, those problems have a tendency of appearing only under heavy load, or on your production servers, or on some faster hardware that’s only used by one of your customers.\n",
    "\n",
    "For example, consider a program that does some kind of processing, and keeps track of how many items it has processed:\n",
    "\n",
    "counter = 0\n",
    "\n",
    "def process_item(item):\n",
    "    global counter\n",
    "    ... do something with item ...\n",
    "    counter += 1\n",
    "If you call this function from more than one thread, you’ll find that the counter isn’t necessarily accurate. It works in most cases, but sometimes misses one or more items. The reason for this is that the increment operation is actually executed in three steps; first, the interpreter fetches the current value of the counter, then it calculates the new value, and finally, it writes the new value back to the variable.\n",
    "\n",
    "If another thread gets control after the current thread has fetched the variable, it may fetch the variable, increment it, and write it back, before the current thread does the same thing. And since they’re both seeing the same original value, only one item will be accounted for.\n",
    "\n",
    "Another common problem is access to incomplete or inconsistent state, which can happen if one thread is initializing or updating some non-trivial data structure, and another thread attempts to read the structure while it’s being updated.\n",
    "\n",
    "Atomic Operations #\n",
    "The simplest way to synchronize access to shared variables or other resources is to rely on atomic operations in the interpreter. An atomic operation is an operation that is carried out in a single execution step, without any chance that another thread gets control.\n",
    "\n",
    "In general, this approach only works if the shared resource consists of a single instance of a core data type, such as a string variable, a number, or a list or dictionary. Here are some thread-safe operations:\n",
    "\n",
    "reading or replacing a single instance attribute\n",
    "reading or replacing a single global variable\n",
    "fetching an item from a list\n",
    "modifying a list in place (e.g. adding an item using append)\n",
    "fetching an item from a dictionary\n",
    "modifying a dictionary in place (e.g. adding an item, or calling the clear method)\n",
    "Note that as mentioned earlier, operations that read a variable or attribute, modifies it, and then writes it back are not thread-safe. Another thread may update the variable after it’s been read by the current thread, but before it’s been updated.\n",
    "\n",
    "Also note that Python code may be executed when objects are destroyed, so even seemingly simple operations may cause other threads to run, and may thus cause conflicts. When in doubt, use explicit locks.\n",
    "\n",
    "Locks #\n",
    "Locks are the most fundamental synchronization mechanism provided by the threading module. At any time, a lock can be held by a single thread, or by no thread at all. If a thread attempts to hold a lock that’s already held by some other thread, execution of the first thread is halted until the lock is released.\n",
    "\n",
    "Locks are typically used to synchronize access to a shared resource. For each shared resource, create a Lock object. When you need to access the resource, call acquire to hold the lock (this will wait for the lock to be released, if necessary), and call release to release it:\n",
    "\n",
    "lock = Lock()\n",
    "\n",
    "lock.acquire() # will block if lock is already held\n",
    "... access shared resource\n",
    "lock.release()\n",
    "For proper operation, it’s important to release the lock even if something goes wrong when accessing the resource. You can use try-finally for this purpose:\n",
    "\n",
    "lock.acquire()\n",
    "try:\n",
    "    ... access shared resource\n",
    "finally:\n",
    "    lock.release() # release lock, no matter what\n",
    "In Python 2.5 and later, you can also use the with statement. When used with a lock, this statement automatically acquires the lock before entering the block, and releases it when leaving the block:\n",
    "\n",
    "from __future__ import with_statement # 2.5 only\n",
    "\n",
    "with lock:\n",
    "    ... access shared resource\n",
    "The acquire method takes an optional wait flag, which can be used to avoid blocking if the lock is held by someone else. If you pass in False, the method never blocks, but returns False if the lock was already held:\n",
    "\n",
    "if not lock.acquire(False):\n",
    "    ... failed to lock the resource\n",
    "else:\n",
    "    try:\n",
    "        ... access shared resource\n",
    "    finally:\n",
    "        lock.release()\n",
    "You can use the locked method to check if the lock is held. Note that you cannot use this method to determine if a call to acquire would block or not; some other thread may have acquired the lock between the method call and the next statement.\n",
    "\n",
    "if not lock.locked():\n",
    "    # some other thread may run before we get\n",
    "    # to the next line\n",
    "    lock.acquire() # may block anyway\n",
    "Problems with Simple Locking #\n",
    "The standard lock object doesn’t care which thread is currently holding the lock; if the lock is held, any thread that attempts to acquire the lock will block, even if the same thread is already holding the lock. Consider the following example:\n",
    "\n",
    "lock = threading.Lock()\n",
    "\n",
    "def get_first_part():\n",
    "    lock.acquire()\n",
    "    try:\n",
    "        ... fetch data for first part from shared object\n",
    "    finally:\n",
    "        lock.release()\n",
    "    return data\n",
    "\n",
    "def get_second_part():\n",
    "    lock.acquire()\n",
    "    try:\n",
    "        ... fetch data for second part from shared object\n",
    "    finally:\n",
    "        lock.release()\n",
    "    return data\n",
    "Here, we have a shared resource, and two access functions that fetch different parts from the resource. The access functions both use locking to make sure that no other thread can modify the resource while we’re accessing it.\n",
    "\n",
    "Now, if we want to add a third function that fetches both parts, we quickly get into trouble. The naive approach is to simply call the two functions, and return the combined result:\n",
    "\n",
    "def get_both_parts():\n",
    "    first = get_first_part()\n",
    "    second = get_second_part()\n",
    "    return first, second\n",
    "The problem here is that if some other thread modifies the resource between the two calls, we may end up with inconsistent data. The obvious solution to this is to grab the lock in this function as well:\n",
    "\n",
    "def get_both_parts():\n",
    "    lock.acquire()\n",
    "    try:\n",
    "        first = get_first_part()\n",
    "        second = get_second_part()\n",
    "    finally:\n",
    "        lock.release()\n",
    "    return first, second\n",
    "However, this won’t work; the individual access functions will get stuck, because the outer function already holds the lock. To work around this, you can add flags to the access functions that enables the outer function to disable locking, but this is error-prone, and can quickly get out of hand. Fortunately, the threading module contains a more practical lock implementation; re-entrant locks.\n",
    "\n",
    "Re-Entrant Locks (RLock) #\n",
    "The RLock class is a version of simple locking that only blocks if the lock is held by another thread. While simple locks will block if the same thread attempts to acquire the same lock twice, a re-entrant lock only blocks if another thread currently holds the lock. If the current thread is trying to acquire a lock that it’s already holding, execution continues as usual.\n",
    "\n",
    "lock = threading.Lock()\n",
    "lock.acquire()\n",
    "lock.acquire() # this will block\n",
    "\n",
    "lock = threading.RLock()\n",
    "lock.acquire()\n",
    "lock.acquire() # this won't block\n",
    "The main use for this is nested access to shared resources, as illustrated by the example in the previous section. To fix the access methods in that example, just replace the simple lock with a re-entrant lock, and the nested calls will work just fine.\n",
    "\n",
    "lock = threading.RLock()\n",
    "\n",
    "def get_first_part():\n",
    "    ... see above\n",
    "\n",
    "def get_second_part():\n",
    "    ... see above\n",
    "\n",
    "def get_both_parts():\n",
    "    ... see above\n",
    "With this in place, you can fetch either the individual parts, or both parts at once, without getting stuck or getting inconsistent data.\n",
    "\n",
    "Note that this lock keeps track of the recursion level, so you still need to call release once for each call to acquire.\n",
    "\n",
    "Semaphores #\n",
    "A semaphore is a more advanced lock mechanism. A semaphore has an internal counter rather than a lock flag, and it only blocks if more than a given number of threads have attempted to hold the semaphore. Depending on how the semaphore is initialized, this allows multiple threads to access the same code section simultaneously.\n",
    "\n",
    "semaphore = threading.BoundedSemaphore()\n",
    "semaphore.acquire() # decrements the counter\n",
    "... access the shared resource\n",
    "semaphore.release() # increments the counter\n",
    "The counter is decremented when the semaphore is acquired, and incremented when the semaphore is released. If the counter reaches zero when acquired, the acquiring thread will block. When the semaphore is incremented again, one of the blocking threads (if any) will run.\n",
    "\n",
    "Semaphores are typically used to limit access to resource with limited capacity, such as a network connection or a database server. Just initialize the counter to the maximum number, and the semaphore implementation will take care of the rest.\n",
    "\n",
    "max_connections = 10\n",
    "\n",
    "semaphore = threading.BoundedSemaphore(max_connections)\n",
    "If you don’t pass in a value, the counter is initialized to 1.\n",
    "\n",
    "Python’s threading module provides two semaphore implementations; the Semaphore class provides an unlimited semaphore which allows you to call release any number of times to increment the counter. To avoid simple programming errors, it’s usually better to use the BoundedSemaphore class, which considers it to be an error to call release more often than you’ve called acquire.\n",
    "\n",
    "Synchronization Between Threads #\n",
    "Locks can also be used for synchronization between threads. The threading module contains several classes designed for this purpose.\n",
    "\n",
    "Events #\n",
    "An event is a simple synchronization object; the event represents an internal flag, and threads can wait for the flag to be set, or set or clear the flag themselves.\n",
    "\n",
    "event = threading.Event()\n",
    "\n",
    "# a client thread can wait for the flag to be set\n",
    "event.wait()\n",
    "\n",
    "# a server thread can set or reset it\n",
    "event.set()\n",
    "event.clear()\n",
    "If the flag is set, the wait method doesn’t do anything. If the flag is cleared, wait will block until it becomes set again. Any number of threads may wait for the same event.\n",
    "\n",
    "Conditions #\n",
    "A condition is a more advanced version of the event object. A condition represents some kind of state change in the application, and a thread can wait for a given condition, or signal that the condition has happened. Here’s a simple consumer/producer example. First, you need a condition object:\n",
    "\n",
    "# represents the addition of an item to a resource\n",
    "condition = threading.Condition()\n",
    "The producing thread needs to acquire the condition before it can notify the consumers that a new item is available:\n",
    "\n",
    "# producer thread\n",
    "... generate item\n",
    "condition.acquire()\n",
    "... add item to resource\n",
    "condition.notify() # signal that a new item is available\n",
    "condition.release()\n",
    "The consumers must acquire the condition (and thus the related lock), and can then attempt to fetch items from the resource:\n",
    "\n",
    "# consumer thread\n",
    "condition.acquire()\n",
    "while True:\n",
    "    ... get item from resource\n",
    "    if item:\n",
    "        break\n",
    "    condition.wait() # sleep until item becomes available\n",
    "condition.release()\n",
    "... process item\n",
    "The wait method releases the lock, blocks the current thread until another thread calls notify or notifyAll on the same condition, and then reacquires the lock. If multiple threads are waiting, the notify method only wakes up one of the threads, while notifyAll always wakes them all up.\n",
    "\n",
    "To avoid blocking in wait, you can pass in a timeout value, as a floating-point value in seconds. If given, the method will return after the given time, even if notify hasn’t been called. If you use a timeout, you must inspect the resource to see if something actually happened.\n",
    "\n",
    "Note that the condition object is associated with a lock, and that lock must be held before you can access the condition. Likewise, the condition lock must be released when you’re done accessing the condition. In production code, you should use try-finally or with, as shown earlier.\n",
    "\n",
    "To associate the condition with an existing lock, pass the lock to the Condition constructor. This is also useful if you want to use several conditions for a single resource:\n",
    "\n",
    "lock = threading.RLock()\n",
    "condition_1 = threading.Condition(lock)\n",
    "condition_2 = threading.Condition(lock)"
   ]
  },
  {
   "cell_type": "code",
   "execution_count": null,
   "metadata": {
    "collapsed": true
   },
   "outputs": [],
   "source": []
  },
  {
   "cell_type": "markdown",
   "metadata": {},
   "source": [
    "# Python 面向对象"
   ]
  },
  {
   "cell_type": "code",
   "execution_count": 28,
   "metadata": {},
   "outputs": [
    {
     "name": "stdout",
     "output_type": "stream",
     "text": [
      "54321\n",
      "this is for j\n",
      "hello, world\n",
      "<__main__.testClass object at 0x0000001A36C1F780>\n",
      "<class '__main__.testClass'>\n",
      "hello\n",
      "None\n"
     ]
    }
   ],
   "source": [
    "# Python 面向对象编程\n",
    "class testClass:\n",
    "    i = 12345\n",
    "    def __init__(self, arg1, arg2):\n",
    "        self.i = arg1\n",
    "        self.j = arg2\n",
    "    def fun1(self):\n",
    "        return 'hello, world'\n",
    "    def fun2(self):\n",
    "        print ('hello')\n",
    "    \n",
    "inst = testClass(54321, \"this is for j\")\n",
    "print (inst.i)\n",
    "print (inst.j)\n",
    "print (inst.fun1())\n",
    "print (inst)\n",
    "print (inst.__class__)\n",
    "print (inst.fun2())"
   ]
  },
  {
   "cell_type": "code",
   "execution_count": 33,
   "metadata": {},
   "outputs": [
    {
     "name": "stdout",
     "output_type": "stream",
     "text": [
      "我叫Alex, 我31岁\n",
      "Alex\n",
      "31\n"
     ]
    },
    {
     "ename": "AttributeError",
     "evalue": "'people' object has no attribute '__weight'",
     "output_type": "error",
     "traceback": [
      "\u001b[1;31m---------------------------------------------------------------------------\u001b[0m",
      "\u001b[1;31mAttributeError\u001b[0m                            Traceback (most recent call last)",
      "\u001b[1;32m<ipython-input-33-51ab1322e92d>\u001b[0m in \u001b[0;36m<module>\u001b[1;34m()\u001b[0m\n\u001b[0;32m     14\u001b[0m \u001b[0mprint\u001b[0m \u001b[1;33m(\u001b[0m\u001b[0mp\u001b[0m\u001b[1;33m.\u001b[0m\u001b[0mname\u001b[0m\u001b[1;33m)\u001b[0m\u001b[1;33m\u001b[0m\u001b[0m\n\u001b[0;32m     15\u001b[0m \u001b[0mprint\u001b[0m \u001b[1;33m(\u001b[0m\u001b[0mp\u001b[0m\u001b[1;33m.\u001b[0m\u001b[0mage\u001b[0m\u001b[1;33m)\u001b[0m\u001b[1;33m\u001b[0m\u001b[0m\n\u001b[1;32m---> 16\u001b[1;33m \u001b[0mprint\u001b[0m \u001b[1;33m(\u001b[0m\u001b[0mp\u001b[0m\u001b[1;33m.\u001b[0m\u001b[0m__weight\u001b[0m\u001b[1;33m)\u001b[0m\u001b[1;33m\u001b[0m\u001b[0m\n\u001b[0m",
      "\u001b[1;31mAttributeError\u001b[0m: 'people' object has no attribute '__weight'"
     ]
    }
   ],
   "source": [
    "class people:\n",
    "    name = ''\n",
    "    age = 0\n",
    "    __weight = 0\n",
    "    def __init__(self, n, a, w):\n",
    "        self.name = n\n",
    "        self.age = a\n",
    "        self.__weight = w\n",
    "    def speak(self):\n",
    "        print ('我叫%s, 我%d岁' % (self.name, self.age))\n",
    "\n",
    "p = people('Alex', 31, 175)\n",
    "p.speak()\n",
    "print (p.name)\n",
    "print (p.age)\n",
    "print (p.__weight)"
   ]
  },
  {
   "cell_type": "code",
   "execution_count": 47,
   "metadata": {},
   "outputs": [
    {
     "name": "stdout",
     "output_type": "stream",
     "text": [
      "我是学生，我叫Alex，我今年31岁，我在读3年级\n",
      "F\n"
     ]
    }
   ],
   "source": [
    "class people:\n",
    "    name = ''\n",
    "    age = 0\n",
    "    sex = 'M'\n",
    "    __weight = 0\n",
    "    def __init__(self, n, a, w):\n",
    "        self.name = n\n",
    "        self.age = a\n",
    "        self.__weight = w\n",
    "    def speak(self):\n",
    "        print ('我叫%s, 我今年%d岁' % (self.name, self.age))\n",
    "\n",
    "class student (people):\n",
    "    grade = 0\n",
    "    sex = 'F'\n",
    "    def __init__(self, n, a, w, g):\n",
    "        people.__init__(self, n, a, w)\n",
    "        self.grade = g\n",
    "    def speak(self):\n",
    "        print ('我是学生，我叫%s，我今年%d岁，我在读%d年级' % (self.name, self.age, self.grade))\n",
    "\n",
    "s = student('Alex', 31, 175, 3)\n",
    "s.speak()\n",
    "print (s.sex)"
   ]
  },
  {
   "cell_type": "code",
   "execution_count": 53,
   "metadata": {},
   "outputs": [
    {
     "name": "stdout",
     "output_type": "stream",
     "text": [
      "我是学生，我叫Alex，我今年31岁，我在读4年级\n",
      "我是演说家, 我叫Amy, 我演讲的主题是《为什么我们会成功》\n"
     ]
    }
   ],
   "source": [
    "class people:\n",
    "    name = ''\n",
    "    age = 0\n",
    "    __weight = 0\n",
    "    def __init__(self, n, a, w):\n",
    "        self.name = n\n",
    "        self.age = a\n",
    "        self.__weight = w\n",
    "    def speak(self):\n",
    "        print ('我叫%s, 我今年%d岁' % (self.name, self.age))\n",
    "\n",
    "class student (people):\n",
    "    grade = ''\n",
    "    def __init__(self, n, a, w, g):\n",
    "        people.__init__(self, n, a, w)\n",
    "        self.grade = g\n",
    "    def speak(self):\n",
    "        print ('我是学生，我叫%s，我今年%d岁，我在读%d年级' % (self.name, self.age, self.grade))\n",
    "\n",
    "s = student('Alex', 31, 175, 4)\n",
    "s.speak()\n",
    "\n",
    "class speaker():\n",
    "    topic = ''\n",
    "    name = ''\n",
    "    def __init__(self, n, t):\n",
    "        self.name = n\n",
    "        self.topic = t\n",
    "    def speak(self):\n",
    "        print ('我是演说家, 我叫%s, 我演讲的主题是%s' % (self.name, self.topic))\n",
    "\n",
    "#class student_speaker (student, speaker):\n",
    "class student_speaker (speaker, student):\n",
    "    a = ''\n",
    "    def __init__(self, n, a, w, g, t):\n",
    "        student.__init__(self, n, a, w, g)\n",
    "        speaker.__init__(self, n, t)\n",
    "    \n",
    "ss = student_speaker('Amy', 29, 108, 5, '《为什么我们会成功》')\n",
    "ss.speak()"
   ]
  },
  {
   "cell_type": "code",
   "execution_count": 54,
   "metadata": {},
   "outputs": [
    {
     "name": "stdout",
     "output_type": "stream",
     "text": [
      "调用子类方法\n",
      "调用父类方法\n"
     ]
    }
   ],
   "source": [
    "class parent:\n",
    "    def myMethod(self):\n",
    "        print ('调用父类方法')\n",
    "\n",
    "class child (parent):\n",
    "    def myMethod(self):\n",
    "        print ('调用子类方法')\n",
    "        \n",
    "c = child()\n",
    "c.myMethod()\n",
    "super(child, c).myMethod()"
   ]
  },
  {
   "cell_type": "code",
   "execution_count": 55,
   "metadata": {},
   "outputs": [
    {
     "name": "stdout",
     "output_type": "stream",
     "text": [
      "1\n",
      "2\n",
      "2\n"
     ]
    },
    {
     "ename": "AttributeError",
     "evalue": "'JustCounter' object has no attribute '__secretCounter'",
     "output_type": "error",
     "traceback": [
      "\u001b[1;31m---------------------------------------------------------------------------\u001b[0m",
      "\u001b[1;31mAttributeError\u001b[0m                            Traceback (most recent call last)",
      "\u001b[1;32m<ipython-input-55-d6e15331f378>\u001b[0m in \u001b[0;36m<module>\u001b[1;34m()\u001b[0m\n\u001b[0;32m     13\u001b[0m \u001b[1;33m\u001b[0m\u001b[0m\n\u001b[0;32m     14\u001b[0m \u001b[0mprint\u001b[0m \u001b[1;33m(\u001b[0m\u001b[0mcounter\u001b[0m\u001b[1;33m.\u001b[0m\u001b[0mpublicCounter\u001b[0m\u001b[1;33m)\u001b[0m\u001b[1;33m\u001b[0m\u001b[0m\n\u001b[1;32m---> 15\u001b[1;33m \u001b[0mprint\u001b[0m \u001b[1;33m(\u001b[0m\u001b[0mcounter\u001b[0m\u001b[1;33m.\u001b[0m\u001b[0m__secretCounter\u001b[0m\u001b[1;33m)\u001b[0m\u001b[1;33m\u001b[0m\u001b[0m\n\u001b[0m",
      "\u001b[1;31mAttributeError\u001b[0m: 'JustCounter' object has no attribute '__secretCounter'"
     ]
    }
   ],
   "source": [
    "class JustCounter:\n",
    "    __secretCounter = 0\n",
    "    publicCounter = 0\n",
    "    \n",
    "    def count(self):\n",
    "        self.__secretCounter += 1\n",
    "        self.publicCounter += 1\n",
    "        print (self.__secretCounter)\n",
    "\n",
    "counter = JustCounter()\n",
    "counter.count()\n",
    "counter.count()\n",
    "\n",
    "print (counter.publicCounter)\n",
    "print (counter.__secretCounter)"
   ]
  },
  {
   "cell_type": "code",
   "execution_count": 57,
   "metadata": {},
   "outputs": [
    {
     "name": "stdout",
     "output_type": "stream",
     "text": [
      "name:  菜鸟教程\n",
      "url:  www.runoob.com\n",
      "这是公共方法foo\n",
      "这是私有方法foo\n"
     ]
    },
    {
     "ename": "AttributeError",
     "evalue": "'Site' object has no attribute '__foo'",
     "output_type": "error",
     "traceback": [
      "\u001b[1;31m---------------------------------------------------------------------------\u001b[0m",
      "\u001b[1;31mAttributeError\u001b[0m                            Traceback (most recent call last)",
      "\u001b[1;32m<ipython-input-57-1b9af6d0fae8>\u001b[0m in \u001b[0;36m<module>\u001b[1;34m()\u001b[0m\n\u001b[0;32m     18\u001b[0m \u001b[0mx\u001b[0m\u001b[1;33m.\u001b[0m\u001b[0mwho\u001b[0m\u001b[1;33m(\u001b[0m\u001b[1;33m)\u001b[0m\u001b[1;33m\u001b[0m\u001b[0m\n\u001b[0;32m     19\u001b[0m \u001b[0mx\u001b[0m\u001b[1;33m.\u001b[0m\u001b[0mfoo\u001b[0m\u001b[1;33m(\u001b[0m\u001b[1;33m)\u001b[0m\u001b[1;33m\u001b[0m\u001b[0m\n\u001b[1;32m---> 20\u001b[1;33m \u001b[0mx\u001b[0m\u001b[1;33m.\u001b[0m\u001b[0m__foo\u001b[0m\u001b[1;33m(\u001b[0m\u001b[1;33m)\u001b[0m\u001b[1;33m\u001b[0m\u001b[0m\n\u001b[0m",
      "\u001b[1;31mAttributeError\u001b[0m: 'Site' object has no attribute '__foo'"
     ]
    }
   ],
   "source": [
    "class Site:\n",
    "    def __init__(self, name, url):\n",
    "        self.name = name\n",
    "        self.__url = url\n",
    "    \n",
    "    def who(self):\n",
    "        print ('name: ', self.name)\n",
    "        print ('url: ', self.__url)\n",
    "        \n",
    "    def __foo(self):\n",
    "        print ('这是私有方法foo')\n",
    "        \n",
    "    def foo(self):\n",
    "        print ('这是公共方法foo')\n",
    "        self.__foo()\n",
    "        \n",
    "x = Site('菜鸟教程', 'www.runoob.com')\n",
    "x.who()\n",
    "x.foo()\n",
    "x.__foo()"
   ]
  },
  {
   "cell_type": "code",
   "execution_count": 61,
   "metadata": {},
   "outputs": [
    {
     "name": "stdout",
     "output_type": "stream",
     "text": [
      "这个人的名字叫Alex, 已经有31岁了！\n"
     ]
    }
   ],
   "source": [
    "class people:\n",
    "    def __init__(self, name, age):\n",
    "        self.name = name\n",
    "        self.age = age\n",
    "    \n",
    "    def __str__(self):\n",
    "        return '这个人的名字叫%s, 已经有%d岁了！' % (self.name, self.age)\n",
    "    \n",
    "a = people('Alex', 31)\n",
    "print (a)"
   ]
  },
  {
   "cell_type": "code",
   "execution_count": 62,
   "metadata": {},
   "outputs": [
    {
     "name": "stdout",
     "output_type": "stream",
     "text": [
      "Vector(7, 8)\n"
     ]
    }
   ],
   "source": [
    "# function and operator overload\n",
    "class Vector:\n",
    "    def __init__(self, a, b):\n",
    "        self.a = a\n",
    "        self.b = b\n",
    "    \n",
    "    def __str__(self):\n",
    "        return 'Vector(%d, %d)' % (self.a, self.b)\n",
    "    \n",
    "    def __add__(self, other):\n",
    "        return Vector(self.a + other.a, self.b + other.b)\n",
    "    \n",
    "v1 = Vector(2, 10)\n",
    "v2 = Vector(5, -2)\n",
    "print (v1+v2)"
   ]
  },
  {
   "cell_type": "code",
   "execution_count": null,
   "metadata": {
    "collapsed": true
   },
   "outputs": [],
   "source": []
  },
  {
   "cell_type": "markdown",
   "metadata": {},
   "source": [
    "# Python常用函数总结试验 (以下笔记主要来自CS686-02 ML课程以及相关ppt的cheatsheet)"
   ]
  },
  {
   "cell_type": "code",
   "execution_count": 2,
   "metadata": {},
   "outputs": [
    {
     "name": "stderr",
     "output_type": "stream",
     "text": [
      "C:\\Users\\Alex_Guo\\Anaconda3\\lib\\site-packages\\statsmodels\\compat\\pandas.py:56: FutureWarning: The pandas.core.datetools module is deprecated and will be removed in a future version. Please use the pandas.tseries module instead.\n",
      "  from pandas.core import datetools\n"
     ]
    }
   ],
   "source": [
    "import numpy as np\n",
    "import pandas as pd\n",
    "import os\n",
    "import seaborn as sns\n",
    "import matplotlib.pyplot as plt \n",
    "%matplotlib inline\n",
    "import statsmodels.api as sm \n",
    "import patsy"
   ]
  },
  {
   "cell_type": "code",
   "execution_count": 43,
   "metadata": {},
   "outputs": [
    {
     "name": "stdout",
     "output_type": "stream",
     "text": [
      "['compact disc', '8-track tape', 'long playing record', ['DVD Audio disc', 'Super Audio CD']]\n"
     ]
    }
   ],
   "source": [
    "# Python list中append和extend的区别\n",
    "music_media = ['compact disc', '8-track tape', 'long playing record']\n",
    "new_media = ['DVD Audio disc', 'Super Audio CD']\n",
    "music_media.append(new_media)\n",
    "print (music_media)"
   ]
  },
  {
   "cell_type": "code",
   "execution_count": 45,
   "metadata": {},
   "outputs": [
    {
     "name": "stdout",
     "output_type": "stream",
     "text": [
      "['compact disc', '8-track tape', 'long playing record', 'DVD Audio disc', 'Super Audio CD']\n"
     ]
    }
   ],
   "source": [
    "# Python list中append和extend的区别\n",
    "music_media = ['compact disc', '8-track tape', 'long playing record']\n",
    "new_media = ['DVD Audio disc', 'Super Audio CD']\n",
    "music_media.extend(new_media)\n",
    "print (music_media)"
   ]
  },
  {
   "cell_type": "code",
   "execution_count": 35,
   "metadata": {},
   "outputs": [
    {
     "data": {
      "text/plain": [
       "['y', 'y', 'y']"
      ]
     },
     "execution_count": 35,
     "metadata": {},
     "output_type": "execute_result"
    }
   ],
   "source": [
    "# list操作\n",
    "# list跟tuple最大的区别是list可以重复，tuple不可以\n",
    "x = []\n",
    "len(x)\n",
    "x.append('y')\n",
    "\n",
    "# position 1, add y\n",
    "x.insert(1, 'y')\n",
    "\n",
    "del(x[0])\n",
    "del(x[0:2])\n",
    "x.remove('y')\n",
    "x.pop(1)\n",
    "# remove很一般，直接删除某个元素\n",
    "# pop按照索引index position删除元素，返回被你删除的那个元素\n",
    "# del按照索引index position删除元素，但啥也不返回\n",
    "\n",
    "x.reverse()\n",
    "x.sort()\n",
    "# add two lists\n",
    "x1+x2\n",
    "# 3个y构建成一个list名为x\n",
    "x = ['y']*3\n",
    "min(x)\n",
    "max(x)\n",
    "# return the position of item\n",
    "x.index['y']\n",
    "# return the count of item\n",
    "x.count['y']\n",
    "# whether a item is in a list\n",
    "'y' in x"
   ]
  },
  {
   "cell_type": "code",
   "execution_count": 37,
   "metadata": {},
   "outputs": [
    {
     "ename": "AttributeError",
     "evalue": "'set' object has no attribute 'append'",
     "output_type": "error",
     "traceback": [
      "\u001b[1;31m---------------------------------------------------------------------------\u001b[0m",
      "\u001b[1;31mAttributeError\u001b[0m                            Traceback (most recent call last)",
      "\u001b[1;32m<ipython-input-37-37f4954f4658>\u001b[0m in \u001b[0;36m<module>\u001b[1;34m()\u001b[0m\n\u001b[0;32m      3\u001b[0m \u001b[1;31m# set也是不能重复，但是set可以修改\u001b[0m\u001b[1;33m\u001b[0m\u001b[1;33m\u001b[0m\u001b[0m\n\u001b[0;32m      4\u001b[0m \u001b[0mx\u001b[0m \u001b[1;33m=\u001b[0m \u001b[0mset\u001b[0m\u001b[1;33m(\u001b[0m\u001b[1;33m)\u001b[0m\u001b[1;33m\u001b[0m\u001b[0m\n\u001b[1;32m----> 5\u001b[1;33m \u001b[0mx\u001b[0m\u001b[1;33m.\u001b[0m\u001b[0mappend\u001b[0m\u001b[1;33m(\u001b[0m\u001b[1;34m'a'\u001b[0m\u001b[1;33m)\u001b[0m\u001b[1;33m\u001b[0m\u001b[0m\n\u001b[0m",
      "\u001b[1;31mAttributeError\u001b[0m: 'set' object has no attribute 'append'"
     ]
    }
   ],
   "source": [
    "# tuple操作\n",
    "# list跟tuple最大的区别是list可以重复，tuple不可以，并且tuple一旦初始化就无法修改\n",
    "# set也是不能重复，但是set可以修改\n",
    "x = set()\n",
    "x.append('a')"
   ]
  },
  {
   "cell_type": "code",
   "execution_count": null,
   "metadata": {
    "collapsed": true
   },
   "outputs": [],
   "source": [
    "# dic操作\n",
    "x = {}\n",
    "x['blue'] = 'blue'\n",
    "x['yellow'] = 'yellow'\n",
    "\n",
    "x = {'blue': 'blue', 'red': 'red'}\n",
    "len(x)\n",
    "x.keys()\n",
    "x.values()\n",
    "x.items()\n",
    "# returns the value of the key or default\n",
    "x.get('y', None)\n",
    "# returns the value of the key, if the key is not in the dic, write default into the dic then returns the default\n",
    "x.setDefault('y', None)\n",
    "del(x[key])\n",
    "'y' in x\n",
    "y = x.copy()\n",
    "x.update(z)"
   ]
  },
  {
   "cell_type": "code",
   "execution_count": null,
   "metadata": {
    "collapsed": true
   },
   "outputs": [],
   "source": [
    "# str操作\n",
    "my_string[3]\n",
    "my_string[4:9]\n",
    "my_string.upper()\n",
    "my_string.lower()\n",
    "my_string.count('w')\n",
    "my_string.replace('e', 's')\n",
    "# 移除字符串头尾的空格\n",
    "my_string.strip()"
   ]
  },
  {
   "cell_type": "code",
   "execution_count": 32,
   "metadata": {},
   "outputs": [
    {
     "data": {
      "text/plain": [
       "list"
      ]
     },
     "execution_count": 32,
     "metadata": {},
     "output_type": "execute_result"
    }
   ],
   "source": [
    "# Python查看类型\n",
    "myList = list(range(1, 9))\n",
    "type(myList)\n",
    "\n"
   ]
  },
  {
   "cell_type": "code",
   "execution_count": 27,
   "metadata": {},
   "outputs": [
    {
     "data": {
      "text/plain": [
       "10"
      ]
     },
     "execution_count": 27,
     "metadata": {},
     "output_type": "execute_result"
    }
   ],
   "source": [
    "# 正态分布\n",
    "myRndNormal = np.random.normal(size=10)\n",
    "\n",
    "# 均匀分布\n",
    "# 两个数组ndarray通过concat拼接成pandas的一个data frame\n",
    "# iloc[][]的使用\n",
    "x = np.random.uniform(9, 27, 10)\n",
    "x.dtype\n",
    "y = 0.5*x + np.random.uniform(-2, 2, 10)\n",
    "myData = pd.DataFrame(pd.concat([pd.Series(x), pd.Series(y)], axis = 1))\n",
    "myData.rename(columns={0: \"x\", 1: \"y\"}, inplace = True)\n",
    "myData.head(10)\n",
    "myData.shape\n",
    "np.mean(x)\n",
    "myData.iloc[0][0]\n",
    "myData.iloc[0]['x']\n",
    "len(myData)\n",
    "\n",
    "# 随机选取一个随机数，往list里添加元素\n",
    "import random\n",
    "\n",
    "val_sample1 = []\n",
    "for i in range(1, 100001):\n",
    "    val_sample1.append(random.choice(myRndUnif))\n",
    "    \n",
    "# 产生-5.0到5.0之间的101个均匀间隔的数\n",
    "for i in np.linspace(-5.0, 5.0, 101):\n",
    "    XXX\n",
    "# 产生-5到5.01之间以0.01为间隔的数\n",
    "for lambda_ in np.arange(-5, 5.01, 0.01):\n",
    "    XXX\n",
    "# 使用range\n",
    "for i in range(0, 9, 1):\n",
    "    XXX"
   ]
  },
  {
   "cell_type": "code",
   "execution_count": 30,
   "metadata": {},
   "outputs": [
    {
     "data": {
      "text/plain": [
       "163.97300783585197"
      ]
     },
     "execution_count": 30,
     "metadata": {},
     "output_type": "execute_result"
    }
   ],
   "source": [
    "# Numpy对一列数x求mean 求sum\n",
    "x = np.random.uniform(9, 27, 10)\n",
    "x.mean()\n",
    "x.sum()\n",
    "\n",
    "# 求平方和\n",
    "a = pgaDataSet.DrvAcc\n",
    "y_hat = -0.9516*a+174.0788\n",
    "y_actual = pgaDataSet.AvgDrive\n",
    "\n",
    "np.sum((y_actual-y_hat)**2)\n",
    "\n",
    "# 求标准差和平方根\n",
    "t_star = (copierMnDataSet.y.mean() - 0) / (copierMnDataSet.y.std() / np.sqrt(45))"
   ]
  },
  {
   "cell_type": "code",
   "execution_count": null,
   "metadata": {
    "collapsed": true
   },
   "outputs": [],
   "source": [
    "# iloc的用法\n",
    "sum_dividend = 0;\n",
    "sum_divider = 0;\n",
    "for i in range(0, len(myData)):\n",
    "    sum_dividend += (myData.iloc[i]['x'] - np.mean(x)) * (myData.iloc[i]['y'] - np.mean(y));\n",
    "    sum_divider += (myData.iloc[i]['x'] - np.mean(x)) * (myData.iloc[i]['x'] - np.mean(x));\n",
    "print (sum_dividend/sum_divider)"
   ]
  },
  {
   "cell_type": "code",
   "execution_count": 29,
   "metadata": {},
   "outputs": [
    {
     "name": "stdout",
     "output_type": "stream",
     "text": [
      "10    1\n",
      "11    2\n",
      "12    3\n",
      "dtype: int32\n",
      "2\n",
      "3\n",
      "3\n"
     ]
    }
   ],
   "source": [
    "# Pandas中loc和iloc的区别，前者根据label，后者根据position\n",
    "mySeries = pd.Series(np.arange(1, 4), index = np.arange(10, 13))\n",
    "print (mySeries)\n",
    "print (mySeries.loc[11])\n",
    "# 如下报错，没有第11个数\n",
    "# mySeries.iloc[11]\n",
    "print (mySeries.iloc[2])\n",
    "print (len(mySeries))"
   ]
  },
  {
   "cell_type": "code",
   "execution_count": null,
   "metadata": {
    "collapsed": true
   },
   "outputs": [],
   "source": [
    "# Pandas从csv导入数据\n",
    "copierMnDataSet = pd.read_csv('copierMaintenanceData.csv', header=None)\n",
    "copier = pd.read_csv('copierMaintenanceData.csv', names=['y', 'x'])\n",
    "copierMnDataSet.columns = ['y', 'x']\n",
    "copierMnDataSet.head(10)\n",
    "\n",
    "# Pandas从txt导入数据\n",
    "platsicHardnessDataSet = pd.read_table('plasticHardness.txt', header=None, delim_whitespace=True)\n",
    "platsicHardnessDataSet.columns = ['BrinellUnits', 'Hrs']\n",
    "platsicHardnessDataSet.head(2)"
   ]
  },
  {
   "cell_type": "code",
   "execution_count": null,
   "metadata": {
    "collapsed": true
   },
   "outputs": [],
   "source": [
    "# Pandas拷贝Dataframe并对其修改\n",
    "modified_SENIC_data_02 = modified_SENIC_data_01.copy(True)\n",
    "modified_SENIC_data_02.lengthOfStay = modified_SENIC_data_02.lengthOfStay * 192\n",
    "modified_SENIC_data_02.infectionRisk = modified_SENIC_data_02.infectionRisk * 192"
   ]
  },
  {
   "cell_type": "code",
   "execution_count": null,
   "metadata": {
    "collapsed": true
   },
   "outputs": [],
   "source": [
    "# Pandas data frame 按行值过滤filter\n",
    "fourDataSets = pd.read_csv('fourDataSets.csv')\n",
    "fourDataSets.head(10)\n",
    "\n",
    "fourDataSets1 = fourDataSets[fourDataSets.dataSet == 1]\n",
    "fourDataSets2 = fourDataSets[fourDataSets.dataSet == 2]\n",
    "\n",
    "df[df.sse == df.sse.min()]\n",
    "\n",
    "# Pandas 画x y散点图\n",
    "fourDataSets1_lmplot = sns.lmplot(\"x\", \"y\", data=fourDataSets1, ci=None)\n",
    "# 或者\n",
    "temp = fourdata.loc[fourdata['dataSet'] == i, ]\n",
    "plt.scatter(temp['x'], temp['y'])\n",
    "plt.show()\n",
    "\n",
    "# 通过一个list构建柱状图\n",
    "plt.hist(val_sample1)\n",
    "plt.title(\"sample1 values Histogram\")\n",
    "plt.xlabel(\"Value\")\n",
    "plt.ylabel(\"Frequency\")"
   ]
  },
  {
   "cell_type": "code",
   "execution_count": null,
   "metadata": {
    "collapsed": true
   },
   "outputs": [],
   "source": [
    "# 打印 print, %d, %s, 四舍五入round\n",
    "print (\"b0 = %s and b1 = %s\" % (round(b0, 4), round(b1, 4)))"
   ]
  },
  {
   "cell_type": "code",
   "execution_count": 31,
   "metadata": {},
   "outputs": [
    {
     "data": {
      "text/html": [
       "<div>\n",
       "<style>\n",
       "    .dataframe thead tr:only-child th {\n",
       "        text-align: right;\n",
       "    }\n",
       "\n",
       "    .dataframe thead th {\n",
       "        text-align: left;\n",
       "    }\n",
       "\n",
       "    .dataframe tbody tr th {\n",
       "        vertical-align: top;\n",
       "    }\n",
       "</style>\n",
       "<table border=\"1\" class=\"dataframe\">\n",
       "  <thead>\n",
       "    <tr style=\"text-align: right;\">\n",
       "      <th></th>\n",
       "      <th>R2</th>\n",
       "      <th>b0</th>\n",
       "      <th>b1</th>\n",
       "      <th>data transformation</th>\n",
       "    </tr>\n",
       "  </thead>\n",
       "  <tbody>\n",
       "    <tr>\n",
       "      <th>0</th>\n",
       "      <td>0.285</td>\n",
       "      <td>0.7443</td>\n",
       "      <td>0.3742</td>\n",
       "      <td>original data</td>\n",
       "    </tr>\n",
       "    <tr>\n",
       "      <th>1</th>\n",
       "      <td>0.285</td>\n",
       "      <td>142.9063</td>\n",
       "      <td>0.3742</td>\n",
       "      <td>multiply X and Y by 192</td>\n",
       "    </tr>\n",
       "    <tr>\n",
       "      <th>2</th>\n",
       "      <td>0.285</td>\n",
       "      <td>34.9823</td>\n",
       "      <td>17.5882</td>\n",
       "      <td>multiply Y by 47</td>\n",
       "    </tr>\n",
       "    <tr>\n",
       "      <th>3</th>\n",
       "      <td>0.285</td>\n",
       "      <td>0.7443</td>\n",
       "      <td>0.031</td>\n",
       "      <td>multiply X by 12</td>\n",
       "    </tr>\n",
       "  </tbody>\n",
       "</table>\n",
       "</div>"
      ],
      "text/plain": [
       "      R2        b0       b1      data transformation\n",
       "0  0.285    0.7443   0.3742            original data\n",
       "1  0.285  142.9063   0.3742  multiply X and Y by 192\n",
       "2  0.285   34.9823  17.5882         multiply Y by 47\n",
       "3  0.285    0.7443    0.031         multiply X by 12"
      ]
     },
     "execution_count": 31,
     "metadata": {},
     "output_type": "execute_result"
    }
   ],
   "source": [
    "# NumPy构建数组  由NumPy数组构建Pandas的data frame\n",
    "output = np.array([[0.285, 0.7443, 0.3742, 'original data'],\n",
    "[0.285, 142.9063, 0.3742, 'multiply X and Y by 192'],\n",
    "[0.285, 34.9823, 17.5882, 'multiply Y by 47'],\n",
    "[0.285, 0.7443, 0.031, 'multiply X by 12']])\n",
    "\n",
    "output_df = pd.DataFrame(output, columns=['R2', 'b0', 'b1', 'data transformation'])\n",
    "output_df"
   ]
  },
  {
   "cell_type": "code",
   "execution_count": null,
   "metadata": {
    "collapsed": true
   },
   "outputs": [],
   "source": [
    "# 类型转换，转为str\n",
    "print 'regression function: y = ' + str(round(results.params['const'], 3))"
   ]
  },
  {
   "cell_type": "markdown",
   "metadata": {},
   "source": [
    "# NumPy相关总结试验"
   ]
  },
  {
   "cell_type": "code",
   "execution_count": 85,
   "metadata": {},
   "outputs": [
    {
     "name": "stdout",
     "output_type": "stream",
     "text": [
      "[[  1.5   0.2   3. ]\n",
      " [-99.  -98.  -97. ]]\n",
      "(2, 3)\n",
      "float64\n",
      "int32\n",
      "[0 1 2 3 4]\n",
      "(5,)\n",
      "[10 15 20]\n",
      "[ 0.    0.25  0.5   0.75  1.    1.25  1.5   1.75  2.  ]\n",
      "[[[7 7]\n",
      "  [7 7]]\n",
      "\n",
      " [[7 7]\n",
      "  [7 7]]]\n",
      "[ 0 99 98  3  4]\n",
      "(5,)\n",
      "[0 1 2 3 4]\n",
      "[789 789]\n",
      "[  0 789 789   3   4]\n",
      "True\n",
      "nihao\n",
      "[False False False  True  True]\n",
      "[ True False False  True  True]\n",
      "[1 0 0 1 1]\n",
      "10\n",
      "2.0\n",
      "[ 10.74607218  -2.67053848  -2.16903051  -5.43781173   6.19244578]\n",
      "[False  True  True  True False]\n"
     ]
    }
   ],
   "source": [
    "# NumPy (Numerical Python)里只包含n-dimensional array一种数据类型，即ndarray，并且所有item的类型要求必须一致\n",
    "# .shape 求维度，.dtype 求item类型\n",
    "x = np.array([[1.5, .2, 3], [-99, -98, -97]])\n",
    "print (x)\n",
    "print (x.shape)\n",
    "print (x.dtype)\n",
    "\n",
    "# NumPy使用自己的np.arange()函数来产生range，不像普通Python那样用range()函数\n",
    "y = np.arange(5)\n",
    "# 增长step = 5，10<=x<25\n",
    "z = np.arange(10, 25, 5)\n",
    "# 产生0到2之间的9个数，间隔一致\n",
    "g = np.linspace(0, 2, 9)\n",
    "m = np.full((2, 2, 2), 7)\n",
    "print (y.dtype)\n",
    "print (y)\n",
    "print (y.shape)\n",
    "print (z)\n",
    "print (g)\n",
    "print (m)\n",
    "y[1:3] = [99, 98]\n",
    "print (y)\n",
    "print (y.shape)\n",
    "\n",
    "# NumPy为了应对大数据的场景，被设计地会尽可能地节省内存，也就是说，对NumPy的一个ndarray的slicing做操作、会直接影响到原始ndarray\n",
    "# ，如果你不想影响到原始的ndarray，请使用.copy复制出一个新的slicing\n",
    "y = np.arange(5)\n",
    "print (y)\n",
    "test_slicing = y[1:3]\n",
    "test_slicing[:] = 789\n",
    "print (test_slicing)\n",
    "print (y)\n",
    "\n",
    "# NumPy的逻辑运算> >= < <= == != | &, True, False, True-1, False-0\n",
    "print (3 != 2)\n",
    "# 1可以当True使\n",
    "if (1):\n",
    "    print ('nihao')\n",
    "x = np.arange(5)\n",
    "print (x > 2)\n",
    "y = (x>2) | (x<1)\n",
    "print (y)\n",
    "# 类型转换, .astype()\n",
    "print (y.astype(int))\n",
    "print (x.sum())\n",
    "print (x.mean())\n",
    "\n",
    "# 生成随机数，生成正态分布\n",
    "np.random.seed(1)\n",
    "z = np.random.normal(1, 6, 5)\n",
    "print (z)\n",
    "print (x>z)"
   ]
  },
  {
   "cell_type": "code",
   "execution_count": 47,
   "metadata": {},
   "outputs": [
    {
     "data": {
      "text/plain": [
       "[[1, 2, 3], [-99, -98, -97]]"
      ]
     },
     "execution_count": 47,
     "metadata": {},
     "output_type": "execute_result"
    }
   ],
   "source": [
    "# 将ndarray转换为普通的list\n",
    "y = x.tolist()\n",
    "y"
   ]
  },
  {
   "cell_type": "code",
   "execution_count": 57,
   "metadata": {},
   "outputs": [
    {
     "name": "stdout",
     "output_type": "stream",
     "text": [
      "[[1, 2, 3], [-99, -98, -97], [1, 2, 3], [-99, -98, -97]]\n",
      "[[   2    4    6]\n",
      " [-198 -196 -194]]\n",
      "[[ 1.          0.5         0.33333333]\n",
      " [-0.01010101 -0.01020408 -0.01030928]]\n",
      "float64\n"
     ]
    }
   ],
   "source": [
    "# list operation\n",
    "print (y+y)\n",
    "# ndarray operation\n",
    "print (x+x)\n",
    "\n",
    "z = 1/x\n",
    "print (z)\n",
    "print (z.dtype)"
   ]
  },
  {
   "cell_type": "code",
   "execution_count": 81,
   "metadata": {},
   "outputs": [
    {
     "data": {
      "text/plain": [
       "array([[ 0.,  0.,  0.,  0.],\n",
       "       [ 0.,  0.,  0.,  0.],\n",
       "       [ 0.,  0.,  0.,  0.]])"
      ]
     },
     "execution_count": 81,
     "metadata": {},
     "output_type": "execute_result"
    }
   ],
   "source": [
    "# np.zeros()\n",
    "test = np.zeros((3, 4))\n",
    "test"
   ]
  },
  {
   "cell_type": "code",
   "execution_count": 82,
   "metadata": {},
   "outputs": [
    {
     "data": {
      "text/plain": [
       "array([[[ 1.,  1.,  1.,  1.],\n",
       "        [ 1.,  1.,  1.,  1.],\n",
       "        [ 1.,  1.,  1.,  1.]],\n",
       "\n",
       "       [[ 1.,  1.,  1.,  1.],\n",
       "        [ 1.,  1.,  1.,  1.],\n",
       "        [ 1.,  1.,  1.,  1.]]])"
      ]
     },
     "execution_count": 82,
     "metadata": {},
     "output_type": "execute_result"
    }
   ],
   "source": [
    "# np.ones()\n",
    "test = np.ones((2, 3, 4))\n",
    "test"
   ]
  },
  {
   "cell_type": "code",
   "execution_count": 55,
   "metadata": {},
   "outputs": [
    {
     "data": {
      "text/plain": [
       "array([  6.98659762e-313,   6.98657828e-313,   6.98659674e-313,\n",
       "         6.98659676e-313])"
      ]
     },
     "execution_count": 55,
     "metadata": {},
     "output_type": "execute_result"
    }
   ],
   "source": [
    "# np.empty()\n",
    "test = np.empty(4)\n",
    "test"
   ]
  },
  {
   "cell_type": "markdown",
   "metadata": {},
   "source": [
    "# Pandas相关总结试验"
   ]
  },
  {
   "cell_type": "code",
   "execution_count": 94,
   "metadata": {},
   "outputs": [
    {
     "name": "stdout",
     "output_type": "stream",
     "text": [
      "0    99\n",
      "1    98\n",
      "dtype: int64\n",
      "0    1\n",
      "1    2\n",
      "2    3\n",
      "3    4\n",
      "dtype: int32\n",
      "1    2\n",
      "2    3\n",
      "dtype: int32\n",
      "[1 2 3 4]\n",
      "RangeIndex(start=0, stop=4, step=1)\n",
      "int32\n",
      "int64\n"
     ]
    }
   ],
   "source": [
    "# Pandas有两种数据类型，series和data frame，series总是一维的\n",
    "# 创建series，每个series都自带index信息，index信息默认为整数从0开始，你也可以使用index参数来指定为字母或字串等其它类型\n",
    "# 注意，index是可以non-unique的，即可以重复\n",
    "mySeries = pd.Series([99, 98])\n",
    "print (mySeries)\n",
    "mySeries = pd.Series(np.arange(1, 5))\n",
    "print (mySeries)\n",
    "print (mySeries[1:3])\n",
    "\n",
    "# return an array\n",
    "print (mySeries.values)\n",
    "print (mySeries.index)\n",
    "print (mySeries.values.dtype)\n",
    "print (mySeries.index.dtype)"
   ]
  },
  {
   "cell_type": "code",
   "execution_count": 107,
   "metadata": {},
   "outputs": [
    {
     "name": "stdout",
     "output_type": "stream",
     "text": [
      "a    1.0\n",
      "b    2.0\n",
      "c    3.0\n",
      "d    4.0\n",
      "dtype: float64\n",
      "object\n",
      "a    1.0\n",
      "b    2.0\n",
      "c    3.0\n",
      "d    4.0\n",
      "dtype: float64\n"
     ]
    }
   ],
   "source": [
    "# Series的index也可以不是integer，而是character之类\n",
    "mySeries = pd.Series(np.arange(1, 5), dtype = 'float', index = ['a', 'b', 'c', 'd'])\n",
    "print (mySeries)\n",
    "print (mySeries.index.dtype)\n",
    "\n",
    "# 所以我们可以借助zip通过dic来构建Series的index, value对儿\n",
    "mySeries = pd.Series(dict(zip(['a', 'b', 'c', 'd'], np.arange(1, 5))), dtype = 'float')\n",
    "print (mySeries)"
   ]
  },
  {
   "cell_type": "code",
   "execution_count": 110,
   "metadata": {},
   "outputs": [
    {
     "name": "stdout",
     "output_type": "stream",
     "text": [
      "10    1\n",
      "11    2\n",
      "12    3\n",
      "dtype: int32\n",
      "2\n"
     ]
    }
   ],
   "source": [
    "# Pandas中loc v.s. iloc\n",
    "mySeries = pd.Series(np.arange(1, 4), index = np.arange(10, 13))\n",
    "print (mySeries)\n",
    "print (mySeries.loc[11])\n",
    "# 如下会报错，只能写print (mySeries.iloc[1])\n",
    "# print (mySeries.iloc[11])"
   ]
  },
  {
   "cell_type": "code",
   "execution_count": 111,
   "metadata": {},
   "outputs": [
    {
     "name": "stdout",
     "output_type": "stream",
     "text": [
      "chi       NaN\n",
      "gamma     NaN\n",
      "nu        NaN\n",
      "pi       54.0\n",
      "rho       NaN\n",
      "theta    10.0\n",
      "dtype: float64\n"
     ]
    }
   ],
   "source": [
    "# 两个Series可以直接相加，会依据index自动关联join\n",
    "mySeries_01 = pd.Series([10, 9, 8, 7], index = ['pi', 'rho', 'theta', 'gamma'])\n",
    "mySeries_02 = pd.Series([910, 19, 44, 2], index = ['nu', 'chi', 'pi', 'theta'])\n",
    "print (mySeries_01 + mySeries_02)"
   ]
  },
  {
   "cell_type": "code",
   "execution_count": 113,
   "metadata": {},
   "outputs": [
    {
     "name": "stdout",
     "output_type": "stream",
     "text": [
      "a    1\n",
      "a    3\n",
      "dtype: int64\n",
      "a    100.0\n",
      "a     99.0\n",
      "a    102.0\n",
      "a    101.0\n",
      "b      NaN\n",
      "c    100.0\n",
      "d      NaN\n",
      "dtype: float64\n"
     ]
    }
   ],
   "source": [
    "# Series的index是可以重复的，Non-unique的，操作时会比较特殊\n",
    "mySeries_01 = pd.Series([1, 2, 3, 4], index = ['a', 'b', 'a', 'c'])\n",
    "mySeries_02 = pd.Series([99, 98, 97, 96], index = ['a', 'a', 'd', 'c'])\n",
    "print (mySeries_01['a'])\n",
    "print (mySeries_01 + mySeries_02)"
   ]
  },
  {
   "cell_type": "code",
   "execution_count": null,
   "metadata": {
    "collapsed": true
   },
   "outputs": [],
   "source": []
  }
 ],
 "metadata": {
  "kernelspec": {
   "display_name": "Python 3",
   "language": "python",
   "name": "python3"
  },
  "language_info": {
   "codemirror_mode": {
    "name": "ipython",
    "version": 3
   },
   "file_extension": ".py",
   "mimetype": "text/x-python",
   "name": "python",
   "nbconvert_exporter": "python",
   "pygments_lexer": "ipython3",
   "version": "3.6.1"
  }
 },
 "nbformat": 4,
 "nbformat_minor": 2
}
