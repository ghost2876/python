{
 "cells": [
  {
   "cell_type": "code",
   "execution_count": null,
   "metadata": {
    "collapsed": true
   },
   "outputs": [],
   "source": [
    "python中list/tuple/dict/set的区别\n",
    "list:  有序集合，key可以重复，随时增删改[]\n",
    "tuple: 有序集合，key可以重复，但一旦初始化就无法修改()\n",
    "dict:  键值对（key-value）方式存储，查找速度快{}\n",
    "set:   无序集合，key不能重复set()\n",
    "    \n",
    "set一般是集合操作，比如并集、交集\n",
    "dict查找速度比set快，但是消耗内存大，用空间换时间"
   ]
  },
  {
   "cell_type": "code",
   "execution_count": 44,
   "metadata": {},
   "outputs": [
    {
     "name": "stdout",
     "output_type": "stream",
     "text": [
      "['abcd', 786, 0.23, 'runoob', True]\n",
      "abcd\n",
      "[786, 0.23, 'runoob']\n",
      "True\n",
      "['abcd', 786, 0.23, 'runoob', True, 'abcd', 786, 0.23, 'runoob', True]\n",
      "['abcd', 786, 0.23, 'runoob', True, 123, 'run']\n",
      "[23, 786, 12, 34, True]\n",
      "----------------\n",
      "----------------\n",
      "{'name': 'runoob', '1': 1, 2: 2}\n",
      "2\n",
      "dict_keys(['name', '1', 2])\n",
      "dict_values(['runoob', 1, 2])\n",
      "----------------\n",
      "{'Rose', 'Jim', 'Tom', 'Jack', 'Mary'}\n",
      "Rose 在集合中\n"
     ]
    },
    {
     "ename": "TypeError",
     "evalue": "'set' object is not callable",
     "output_type": "error",
     "traceback": [
      "\u001b[1;31m---------------------------------------------------------------------------\u001b[0m",
      "\u001b[1;31mTypeError\u001b[0m                                 Traceback (most recent call last)",
      "\u001b[1;32m<ipython-input-44-de10435d7f7a>\u001b[0m in \u001b[0;36m<module>\u001b[1;34m()\u001b[0m\n\u001b[0;32m     42\u001b[0m \u001b[1;33m\u001b[0m\u001b[0m\n\u001b[0;32m     43\u001b[0m \u001b[1;31m# set可以进行集合运算\u001b[0m\u001b[1;33m\u001b[0m\u001b[1;33m\u001b[0m\u001b[0m\n\u001b[1;32m---> 44\u001b[1;33m \u001b[0ma\u001b[0m \u001b[1;33m=\u001b[0m \u001b[0mset\u001b[0m\u001b[1;33m(\u001b[0m\u001b[1;34m'abracadabra'\u001b[0m\u001b[1;33m)\u001b[0m\u001b[1;33m\u001b[0m\u001b[0m\n\u001b[0m\u001b[0;32m     45\u001b[0m \u001b[0mb\u001b[0m \u001b[1;33m=\u001b[0m \u001b[0mset\u001b[0m\u001b[1;33m(\u001b[0m\u001b[1;34m'alacazam'\u001b[0m\u001b[1;33m)\u001b[0m\u001b[1;33m\u001b[0m\u001b[0m\n\u001b[0;32m     46\u001b[0m \u001b[1;33m\u001b[0m\u001b[0m\n",
      "\u001b[1;31mTypeError\u001b[0m: 'set' object is not callable"
     ]
    }
   ],
   "source": [
    "# list\n",
    "list = ['abcd', 786, .23, \"runoob\", True]\n",
    "tinylist = [123, 'run']\n",
    "print (list)\n",
    "print (list[0])\n",
    "print (list[1:-1])\n",
    "print (list[-1])\n",
    "print (list * 2)\n",
    "print (list + tinylist) # 连接两个list\n",
    "# 修改list中的元素\n",
    "list[0] = 23\n",
    "list[2:4] = [12, 34]\n",
    "print (list)\n",
    "print ('----------------')\n",
    "\n",
    "# tuple\n",
    "tuple = ['abcd', 786, .23, \"runoob\", True]\n",
    "# 和上面list的操作都一样，唯独就是不能进行修改\n",
    "tuple[0] = 'ab' #!!!报错\n",
    "print ('----------------')\n",
    "\n",
    "# dict\n",
    "dict = {}\n",
    "dict['one'] = 1\n",
    "dict[2] = \"2\"\n",
    "dict = {'name':'runoob', '1':1, 2:2}\n",
    "print (dict)\n",
    "print (dict[2])\n",
    "print (dict.keys())\n",
    "print (dict.values())\n",
    "print ('----------------')\n",
    "\n",
    "# set\n",
    "student = {'Tom', 'Jim', 'Mary', 'Tom', 'Jack', 'Rose'}\n",
    "print(student)   # 输出集合，重复的元素被自动去掉\n",
    "\n",
    "# 成员测试\n",
    "if('Rose' in student):\n",
    "    print('Rose 在集合中')\n",
    "else :\n",
    "    print('Rose 不在集合中')\n",
    "\n",
    "# set可以进行集合运算\n",
    "a = set('abracadabra')\n",
    "b = set('alacazam')\n",
    "\n",
    "print(a)\n",
    "print(a - b)     # a和b的差集\n",
    "print(a | b)     # a和b的并集\n",
    "print(a & b)     # a和b的交集\n",
    "print(a ^ b)     # a和b中不同时存在的元素"
   ]
  },
  {
   "cell_type": "code",
   "execution_count": 13,
   "metadata": {},
   "outputs": [
    {
     "name": "stdout",
     "output_type": "stream",
     "text": [
      "100\n",
      "<class 'int'>\n",
      "1000.0\n",
      "<class 'float'>\n",
      "runoob\n",
      "<class 'str'>\n",
      "True\n",
      "<class 'bool'>\n"
     ]
    }
   ],
   "source": [
    "# int, float, str, bool四种变量类型\n",
    "counter = 100\n",
    "miles = 1000.0\n",
    "name = \"runoob\"\n",
    "flag = True\n",
    "\n",
    "print (counter)\n",
    "print (type(counter))\n",
    "print (miles)\n",
    "print (type(miles))\n",
    "print (name)\n",
    "print (type(name))\n",
    "print (flag)\n",
    "print (type(flag))"
   ]
  },
  {
   "cell_type": "code",
   "execution_count": 11,
   "metadata": {
    "collapsed": true
   },
   "outputs": [],
   "source": [
    "# 可以连续赋值\n",
    "a, b, c = 1, 2., \"runoob\""
   ]
  },
  {
   "cell_type": "code",
   "execution_count": null,
   "metadata": {
    "collapsed": true
   },
   "outputs": [],
   "source": [
    "# 可以使用type或isinstance()判断类型, 区别:\n",
    "type()不会认为子类是一种父类类型。\n",
    "isinstance()会认为子类是一种父类类型。"
   ]
  },
  {
   "cell_type": "code",
   "execution_count": 14,
   "metadata": {},
   "outputs": [
    {
     "name": "stdout",
     "output_type": "stream",
     "text": [
      "3\n"
     ]
    },
    {
     "ename": "NameError",
     "evalue": "name 'var' is not defined",
     "output_type": "error",
     "traceback": [
      "\u001b[1;31m---------------------------------------------------------------------------\u001b[0m",
      "\u001b[1;31mNameError\u001b[0m                                 Traceback (most recent call last)",
      "\u001b[1;32m<ipython-input-14-dab838f47122>\u001b[0m in \u001b[0;36m<module>\u001b[1;34m()\u001b[0m\n\u001b[0;32m      3\u001b[0m \u001b[0mprint\u001b[0m \u001b[1;33m(\u001b[0m\u001b[0mvar\u001b[0m\u001b[1;33m)\u001b[0m\u001b[1;33m\u001b[0m\u001b[0m\n\u001b[0;32m      4\u001b[0m \u001b[1;32mdel\u001b[0m \u001b[0mvar\u001b[0m\u001b[1;33m\u001b[0m\u001b[0m\n\u001b[1;32m----> 5\u001b[1;33m \u001b[0mprint\u001b[0m \u001b[1;33m(\u001b[0m\u001b[0mvar\u001b[0m\u001b[1;33m)\u001b[0m\u001b[1;33m\u001b[0m\u001b[0m\n\u001b[0m",
      "\u001b[1;31mNameError\u001b[0m: name 'var' is not defined"
     ]
    }
   ],
   "source": [
    "# 可以使用del删除变量引用\n",
    "var = 3\n",
    "print (var)\n",
    "del var\n",
    "print (var)"
   ]
  },
  {
   "cell_type": "code",
   "execution_count": 20,
   "metadata": {},
   "outputs": [
    {
     "name": "stdout",
     "output_type": "stream",
     "text": [
      "Runoob\n",
      "b\n",
      "Runoo\n",
      "Runoob\n",
      "noo\n",
      "RunoobRunoob\n",
      "RunoobTEST\n"
     ]
    }
   ],
   "source": [
    "# 对str使用下标截取  \\n转义字符\n",
    "str = 'Runoob'\n",
    "\n",
    "print (str)\n",
    "print (str[-1])\n",
    "print (str[0:-1])\n",
    "print (str[0:])\n",
    "print (str[2:5])\n",
    "print (str * 2)\n",
    "print (str + \"TEST\")"
   ]
  },
  {
   "cell_type": "code",
   "execution_count": null,
   "metadata": {
    "collapsed": true
   },
   "outputs": [],
   "source": []
  }
 ],
 "metadata": {
  "kernelspec": {
   "display_name": "Python 3",
   "language": "python",
   "name": "python3"
  },
  "language_info": {
   "codemirror_mode": {
    "name": "ipython",
    "version": 3
   },
   "file_extension": ".py",
   "mimetype": "text/x-python",
   "name": "python",
   "nbconvert_exporter": "python",
   "pygments_lexer": "ipython3",
   "version": "3.6.1"
  }
 },
 "nbformat": 4,
 "nbformat_minor": 2
}
